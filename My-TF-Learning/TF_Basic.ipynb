{
  "nbformat": 4,
  "nbformat_minor": 0,
  "metadata": {
    "colab": {
      "name": "TF-Basic.ipynb",
      "version": "0.3.2",
      "provenance": [],
      "collapsed_sections": [],
      "include_colab_link": true
    },
    "kernelspec": {
      "name": "python3",
      "display_name": "Python 3"
    }
  },
  "cells": [
    {
      "cell_type": "markdown",
      "metadata": {
        "id": "view-in-github",
        "colab_type": "text"
      },
      "source": [
        "<a href=\"https://colab.research.google.com/github/SeanSyue/TensorflowReferences/blob/master/My-TF-Learning/TF_Basic.ipynb\" target=\"_parent\"><img src=\"https://colab.research.google.com/assets/colab-badge.svg\" alt=\"Open In Colab\"/></a>"
      ]
    },
    {
      "metadata": {
        "id": "ooCEHe44alIz",
        "colab_type": "text"
      },
      "cell_type": "markdown",
      "source": [
        "### Import `tensorflow` module"
      ]
    },
    {
      "metadata": {
        "id": "N3GlLtdOastc",
        "colab_type": "code",
        "outputId": "efd6d638-e16a-4455-ecac-7e5858bce028",
        "colab": {
          "base_uri": "https://localhost:8080/",
          "height": 35
        }
      },
      "cell_type": "code",
      "source": [
        "import tensorflow as tf\n",
        "tf.__version__"
      ],
      "execution_count": 0,
      "outputs": [
        {
          "output_type": "execute_result",
          "data": {
            "text/plain": [
              "'1.13.1'"
            ]
          },
          "metadata": {
            "tags": []
          },
          "execution_count": 2
        }
      ]
    },
    {
      "metadata": {
        "id": "jELsZ_Epy79p",
        "colab_type": "text"
      },
      "cell_type": "markdown",
      "source": [
        "### Build a simple `graph`"
      ]
    },
    {
      "metadata": {
        "id": "sdlgY348yPnj",
        "colab_type": "text"
      },
      "cell_type": "markdown",
      "source": [
        "Build the computation graph and see results of the operations that will be run. It does not output the values 3.0, 4.0, and 7.0. "
      ]
    },
    {
      "metadata": {
        "id": "Zk60oh1kxe-y",
        "colab_type": "code",
        "outputId": "8f2c9479-538a-4d88-c9ef-50651f0d4d6b",
        "colab": {
          "base_uri": "https://localhost:8080/",
          "height": 72
        }
      },
      "cell_type": "code",
      "source": [
        "a = tf.constant(3.0, dtype=tf.float32)\n",
        "b = tf.constant(4.0) # also tf.float32 implicitly\n",
        "total = a + b\n",
        "print(a)\n",
        "print(b)\n",
        "print(total)"
      ],
      "execution_count": 0,
      "outputs": [
        {
          "output_type": "stream",
          "text": [
            "Tensor(\"Const:0\", shape=(), dtype=float32)\n",
            "Tensor(\"Const_1:0\", shape=(), dtype=float32)\n",
            "Tensor(\"add:0\", shape=(), dtype=float32)\n"
          ],
          "name": "stdout"
        }
      ]
    },
    {
      "metadata": {
        "id": "jnatOkSvzEN9",
        "colab_type": "text"
      },
      "cell_type": "markdown",
      "source": [
        "### `Tensorboard`"
      ]
    },
    {
      "metadata": {
        "id": "xfenyl-7zPGZ",
        "colab_type": "text"
      },
      "cell_type": "markdown",
      "source": [
        "Save the computation graph to a TensorBoard summary file. This will produce an event file in the current directory with a name in the following format:\n",
        "\n",
        "```\n",
        "events.out.tfevents.{timestamp}.{hostname}\n",
        "```\n",
        "In a new terminal,  you can launch TensorBoard with the following shell command:\n",
        "```\n",
        "tensorboard --logdir .\n",
        "```"
      ]
    },
    {
      "metadata": {
        "id": "Orlake2lyXmt",
        "colab_type": "code",
        "colab": {}
      },
      "cell_type": "code",
      "source": [
        "writer = tf.summary.FileWriter('.')\n",
        "writer.add_graph(tf.get_default_graph())\n",
        "writer.flush()"
      ],
      "execution_count": 0,
      "outputs": []
    },
    {
      "metadata": {
        "id": "7quZqEHX1Dds",
        "colab_type": "text"
      },
      "cell_type": "markdown",
      "source": [
        "### Run the simple graph in a `session`"
      ]
    },
    {
      "metadata": {
        "id": "_jBbcU6o1aCJ",
        "colab_type": "text"
      },
      "cell_type": "markdown",
      "source": [
        "A session encapsulates the state of the TensorFlow runtime, and runs TensorFlow operations. If a `tf.Graph` is like a` .py` file, a `tf.Session` is like the `python` executable.\n",
        "\n",
        "Run the session that shows the result of the operation listed above. "
      ]
    },
    {
      "metadata": {
        "id": "wfQYVHsj1Xwa",
        "colab_type": "code",
        "outputId": "5c45d84f-3aff-4363-bb1d-5f8f99578bd1",
        "colab": {
          "base_uri": "https://localhost:8080/",
          "height": 35
        }
      },
      "cell_type": "code",
      "source": [
        "sess = tf.Session()\n",
        "sess.run(total)"
      ],
      "execution_count": 0,
      "outputs": [
        {
          "output_type": "execute_result",
          "data": {
            "text/plain": [
              "7.0"
            ]
          },
          "metadata": {
            "tags": []
          },
          "execution_count": 7
        }
      ]
    },
    {
      "metadata": {
        "id": "Ki1Ikvnq15Wv",
        "colab_type": "text"
      },
      "cell_type": "markdown",
      "source": [
        "You can pass multiple tensors to `tf.Session.run`. The run method transparently handles any combination of tuples or dictionaries, as in the following example:"
      ]
    },
    {
      "metadata": {
        "id": "DKnDYmYg1Sn7",
        "colab_type": "code",
        "outputId": "9ad6df85-0c07-4b15-9c6d-a7c403b149c4",
        "colab": {
          "base_uri": "https://localhost:8080/",
          "height": 35
        }
      },
      "cell_type": "code",
      "source": [
        "sess.run({'ab':(a, b), 'total':total})"
      ],
      "execution_count": 0,
      "outputs": [
        {
          "output_type": "execute_result",
          "data": {
            "text/plain": [
              "{'ab': (3.0, 4.0), 'total': 7.0}"
            ]
          },
          "metadata": {
            "tags": []
          },
          "execution_count": 9
        }
      ]
    },
    {
      "metadata": {
        "id": "QRM5abbi3jdU",
        "colab_type": "text"
      },
      "cell_type": "markdown",
      "source": [
        "### Feeding"
      ]
    },
    {
      "metadata": {
        "id": "RRr2OCwa4ywZ",
        "colab_type": "text"
      },
      "cell_type": "markdown",
      "source": [
        "Construct `placeholders`"
      ]
    },
    {
      "metadata": {
        "id": "T_lQ1qXWzL2f",
        "colab_type": "code",
        "colab": {}
      },
      "cell_type": "code",
      "source": [
        "x = tf.placeholder(tf.float32)\n",
        "y = tf.placeholder(tf.float32)\n",
        "z = x + y"
      ],
      "execution_count": 0,
      "outputs": []
    },
    {
      "metadata": {
        "id": "nnsA_EsA5MgP",
        "colab_type": "text"
      },
      "cell_type": "markdown",
      "source": [
        "feed concrete values to the placeholders:"
      ]
    },
    {
      "metadata": {
        "id": "4B2SacwO5IVN",
        "colab_type": "code",
        "outputId": "ac1a43f8-ae08-4fff-a1a3-a4e6bf292063",
        "colab": {
          "base_uri": "https://localhost:8080/",
          "height": 54
        }
      },
      "cell_type": "code",
      "source": [
        "print(sess.run(z, feed_dict={x: 3, y: 4.5}))\n",
        "print(sess.run(z, feed_dict={x: [1, 3], y: [2, 4]}))"
      ],
      "execution_count": 0,
      "outputs": [
        {
          "output_type": "stream",
          "text": [
            "7.5\n",
            "[3. 7.]\n"
          ],
          "name": "stdout"
        }
      ]
    },
    {
      "metadata": {
        "id": "uHgl05CE5cmO",
        "colab_type": "text"
      },
      "cell_type": "markdown",
      "source": [
        "Also note that the feed_dict argument can be used to overwrite any tensor in the graph. The only difference between placeholders and other tf.Tensors is that placeholders throw an error if no value is fed to them. "
      ]
    },
    {
      "metadata": {
        "id": "sMzwh1Mj5fBv",
        "colab_type": "text"
      },
      "cell_type": "markdown",
      "source": [
        "### Simple linear model with `tf.layers`"
      ]
    },
    {
      "metadata": {
        "id": "aLicORpBA4FE",
        "colab_type": "text"
      },
      "cell_type": "markdown",
      "source": [
        "creates a `tf.layers.Dense` layer that takes a batch of input vectors, and produces a single output value for each."
      ]
    },
    {
      "metadata": {
        "id": "_u4cBosW5bvW",
        "colab_type": "code",
        "outputId": "0cdaa77c-5ea4-4ec3-c018-7ad1955b68e3",
        "colab": {
          "base_uri": "https://localhost:8080/",
          "height": 92
        }
      },
      "cell_type": "code",
      "source": [
        "x = tf.placeholder(tf.float32, shape=[None, 3])\n",
        "linear_model = tf.layers.Dense(units=1)\n",
        "y = linear_model(x)"
      ],
      "execution_count": 0,
      "outputs": [
        {
          "output_type": "stream",
          "text": [
            "WARNING:tensorflow:From /usr/local/lib/python3.6/dist-packages/tensorflow/python/framework/op_def_library.py:263: colocate_with (from tensorflow.python.framework.ops) is deprecated and will be removed in a future version.\n",
            "Instructions for updating:\n",
            "Colocations handled automatically by placer.\n"
          ],
          "name": "stdout"
        }
      ]
    },
    {
      "metadata": {
        "id": "kFBUkNLNBZ4M",
        "colab_type": "text"
      },
      "cell_type": "markdown",
      "source": [
        "The layer contains variables that must be **initialized** before they can be used. While it is possible to initialize variables individually, you can easily initialize all the variables in a TensorFlow graph as follows:"
      ]
    },
    {
      "metadata": {
        "id": "MhNcllfr5OG_",
        "colab_type": "code",
        "colab": {}
      },
      "cell_type": "code",
      "source": [
        "init = tf.global_variables_initializer()\n",
        "sess.run(init)"
      ],
      "execution_count": 0,
      "outputs": []
    },
    {
      "metadata": {
        "id": "uyePXRR2Bz_p",
        "colab_type": "text"
      },
      "cell_type": "markdown",
      "source": [
        "evaluate the linear_model's output tensor:"
      ]
    },
    {
      "metadata": {
        "id": "RLxrNkZoB0-C",
        "colab_type": "code",
        "outputId": "b95ea151-967d-4039-c191-4d460ff2353e",
        "colab": {
          "base_uri": "https://localhost:8080/",
          "height": 54
        }
      },
      "cell_type": "code",
      "source": [
        "sess.run(y, {x: [[1, 2, 3],[4, 5, 6]]})"
      ],
      "execution_count": 0,
      "outputs": [
        {
          "output_type": "execute_result",
          "data": {
            "text/plain": [
              "array([[-2.8239913],\n",
              "       [-5.4452715]], dtype=float32)"
            ]
          },
          "metadata": {
            "tags": []
          },
          "execution_count": 15
        }
      ]
    },
    {
      "metadata": {
        "id": "6v_hGUpBCQng",
        "colab_type": "text"
      },
      "cell_type": "markdown",
      "source": [
        "### Training"
      ]
    },
    {
      "metadata": {
        "id": "f5MQzJLkDNdO",
        "colab_type": "text"
      },
      "cell_type": "markdown",
      "source": [
        "First let's define some inputs, `x`, and the expected output for each input, `y_true`:"
      ]
    },
    {
      "metadata": {
        "id": "hVyehljSBkxq",
        "colab_type": "code",
        "colab": {}
      },
      "cell_type": "code",
      "source": [
        "x = tf.constant([[1], [2], [3], [4]], dtype=tf.float32)\n",
        "y_true = tf.constant([[0], [-1], [-2], [-3]], dtype=tf.float32)"
      ],
      "execution_count": 0,
      "outputs": []
    },
    {
      "metadata": {
        "id": "LEuVQDipDTxR",
        "colab_type": "text"
      },
      "cell_type": "markdown",
      "source": [
        "Next, build a simple linear model, with 1 output:"
      ]
    },
    {
      "metadata": {
        "id": "wdPROt47DRqn",
        "colab_type": "code",
        "colab": {}
      },
      "cell_type": "code",
      "source": [
        "linear_model = tf.layers.Dense(units=1)\n",
        "\n",
        "y_pred = linear_model(x)"
      ],
      "execution_count": 0,
      "outputs": []
    },
    {
      "metadata": {
        "id": "wGFKZ0oVDhp4",
        "colab_type": "text"
      },
      "cell_type": "markdown",
      "source": [
        "Evaluate the predictions"
      ]
    },
    {
      "metadata": {
        "id": "EQ2EP__CDWE5",
        "colab_type": "code",
        "outputId": "602d6002-3b47-4863-c75c-2b040fb7f8aa",
        "colab": {
          "base_uri": "https://localhost:8080/",
          "height": 90
        }
      },
      "cell_type": "code",
      "source": [
        "sess = tf.Session()\n",
        "init = tf.global_variables_initializer()\n",
        "sess.run(init)\n",
        "\n",
        "sess.run(y_pred)"
      ],
      "execution_count": 0,
      "outputs": [
        {
          "output_type": "execute_result",
          "data": {
            "text/plain": [
              "array([[0.53605926],\n",
              "       [1.0721185 ],\n",
              "       [1.6081778 ],\n",
              "       [2.144237  ]], dtype=float32)"
            ]
          },
          "metadata": {
            "tags": []
          },
          "execution_count": 19
        }
      ]
    },
    {
      "metadata": {
        "id": "qlSmX3RSH_9n",
        "colab_type": "text"
      },
      "cell_type": "markdown",
      "source": [
        "To optimize a model, you first need to define the loss."
      ]
    },
    {
      "metadata": {
        "id": "00N_jadmHvfI",
        "colab_type": "text"
      },
      "cell_type": "markdown",
      "source": [
        "The model hasn't yet been trained, so the four \"predicted\" values aren't very good. "
      ]
    },
    {
      "metadata": {
        "id": "9P7YWJTAIEfQ",
        "colab_type": "code",
        "outputId": "184f8da5-b026-4d55-b257-aa75c73dd3b0",
        "colab": {
          "base_uri": "https://localhost:8080/",
          "height": 110
        }
      },
      "cell_type": "code",
      "source": [
        "loss = tf.losses.mean_squared_error(labels=y_true, predictions=y_pred)\n",
        "\n",
        "sess.run(loss)0"
      ],
      "execution_count": 0,
      "outputs": [
        {
          "output_type": "stream",
          "text": [
            "WARNING:tensorflow:From /usr/local/lib/python3.6/dist-packages/tensorflow/python/ops/losses/losses_impl.py:667: to_float (from tensorflow.python.ops.math_ops) is deprecated and will be removed in a future version.\n",
            "Instructions for updating:\n",
            "Use tf.cast instead.\n"
          ],
          "name": "stdout"
        },
        {
          "output_type": "execute_result",
          "data": {
            "text/plain": [
              "11.015789"
            ]
          },
          "metadata": {
            "tags": []
          },
          "execution_count": 21
        }
      ]
    },
    {
      "metadata": {
        "id": "AEldcMOvIOde",
        "colab_type": "text"
      },
      "cell_type": "markdown",
      "source": [
        "The simplest optimization algorithm is gradient descent, implemented by tf.train.GradientDescentOptimizer. It modifies each variable according to the magnitude of the derivative of loss with respect to that variable. For example:"
      ]
    },
    {
      "metadata": {
        "id": "NugjZrkBHq_z",
        "colab_type": "code",
        "colab": {}
      },
      "cell_type": "code",
      "source": [
        "optimizer = tf.train.GradientDescentOptimizer(0.01)\n",
        "train = optimizer.minimize(loss)"
      ],
      "execution_count": 0,
      "outputs": []
    },
    {
      "metadata": {
        "id": "11z_unJ-IS5g",
        "colab_type": "text"
      },
      "cell_type": "markdown",
      "source": [
        "Train loop: "
      ]
    },
    {
      "metadata": {
        "id": "3BRtOtyeH7Fj",
        "colab_type": "code",
        "outputId": "a32be766-08fc-47a7-f6d6-67070b40a99a",
        "colab": {
          "base_uri": "https://localhost:8080/",
          "height": 1835
        }
      },
      "cell_type": "code",
      "source": [
        "for i in range(100):\n",
        "  _, loss_value = sess.run((train, loss))\n",
        "  print(loss_value)"
      ],
      "execution_count": 0,
      "outputs": [
        {
          "output_type": "stream",
          "text": [
            "11.015789\n",
            "7.736965\n",
            "5.4613013\n",
            "3.8817103\n",
            "2.785115\n",
            "2.0236623\n",
            "1.4947616\n",
            "1.127227\n",
            "0.87166405\n",
            "0.6937994\n",
            "0.5698507\n",
            "0.48331675\n",
            "0.42274702\n",
            "0.38019645\n",
            "0.35015228\n",
            "0.32878906\n",
            "0.3134523\n",
            "0.3023005\n",
            "0.2940554\n",
            "0.28783038\n",
            "0.28300998\n",
            "0.27916718\n",
            "0.27600572\n",
            "0.27332008\n",
            "0.27096745\n",
            "0.2688488\n",
            "0.2668955\n",
            "0.26505974\n",
            "0.2633084\n",
            "0.26161852\n",
            "0.2599742\n",
            "0.2583642\n",
            "0.2567809\n",
            "0.25521883\n",
            "0.25367433\n",
            "0.25214475\n",
            "0.25062823\n",
            "0.24912354\n",
            "0.24762982\n",
            "0.24614629\n",
            "0.24467255\n",
            "0.24320823\n",
            "0.24175313\n",
            "0.24030702\n",
            "0.23886976\n",
            "0.23744132\n",
            "0.23602143\n",
            "0.23461017\n",
            "0.2332073\n",
            "0.23181292\n",
            "0.23042694\n",
            "0.22904919\n",
            "0.2276797\n",
            "0.22631848\n",
            "0.22496533\n",
            "0.22362027\n",
            "0.22228327\n",
            "0.22095424\n",
            "0.21963319\n",
            "0.21832006\n",
            "0.21701476\n",
            "0.21571729\n",
            "0.21442753\n",
            "0.2131455\n",
            "0.21187115\n",
            "0.21060435\n",
            "0.20934522\n",
            "0.20809357\n",
            "0.2068494\n",
            "0.20561272\n",
            "0.20438337\n",
            "0.2031614\n",
            "0.2019467\n",
            "0.20073932\n",
            "0.19953908\n",
            "0.19834611\n",
            "0.19716021\n",
            "0.19598146\n",
            "0.19480968\n",
            "0.19364499\n",
            "0.19248718\n",
            "0.19133636\n",
            "0.19019239\n",
            "0.18905523\n",
            "0.1879249\n",
            "0.18680131\n",
            "0.18568447\n",
            "0.18457434\n",
            "0.1834708\n",
            "0.18237382\n",
            "0.18128341\n",
            "0.18019956\n",
            "0.1791222\n",
            "0.17805123\n",
            "0.1769867\n",
            "0.17592852\n",
            "0.17487668\n",
            "0.17383114\n",
            "0.17279181\n",
            "0.17175874\n"
          ],
          "name": "stdout"
        }
      ]
    },
    {
      "metadata": {
        "id": "iZaNN8RNIVPJ",
        "colab_type": "code",
        "colab": {}
      },
      "cell_type": "code",
      "source": [
        ""
      ],
      "execution_count": 0,
      "outputs": []
    }
  ]
}